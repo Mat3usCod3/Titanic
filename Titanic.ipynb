{
 "cells": [
  {
   "cell_type": "markdown",
   "id": "0893dcae",
   "metadata": {},
   "source": [
    "# Análise Titanic\n"
   ]
  },
  {
   "cell_type": "code",
   "execution_count": 1,
   "id": "26db2500",
   "metadata": {},
   "outputs": [],
   "source": [
    "import pandas as pd\n",
    "import numpy as np\n",
    "import matplotlib as plt\n",
    "import matplotlib.pyplot as plt\n",
    "import math as mt\n",
    "import statistics as st"
   ]
  },
  {
   "cell_type": "code",
   "execution_count": 2,
   "id": "49e1b85b",
   "metadata": {},
   "outputs": [
    {
     "data": {
      "text/html": [
       "<div>\n",
       "<style scoped>\n",
       "    .dataframe tbody tr th:only-of-type {\n",
       "        vertical-align: middle;\n",
       "    }\n",
       "\n",
       "    .dataframe tbody tr th {\n",
       "        vertical-align: top;\n",
       "    }\n",
       "\n",
       "    .dataframe thead th {\n",
       "        text-align: right;\n",
       "    }\n",
       "</style>\n",
       "<table border=\"1\" class=\"dataframe\">\n",
       "  <thead>\n",
       "    <tr style=\"text-align: right;\">\n",
       "      <th></th>\n",
       "      <th>Survived</th>\n",
       "      <th>Pclass</th>\n",
       "      <th>Name</th>\n",
       "      <th>Sex</th>\n",
       "      <th>Age</th>\n",
       "      <th>Siblings/Spouses Aboard</th>\n",
       "      <th>Parents/Children Aboard</th>\n",
       "      <th>Fare</th>\n",
       "    </tr>\n",
       "  </thead>\n",
       "  <tbody>\n",
       "    <tr>\n",
       "      <th>0</th>\n",
       "      <td>0</td>\n",
       "      <td>3</td>\n",
       "      <td>Mr. Owen Harris Braund</td>\n",
       "      <td>male</td>\n",
       "      <td>22.0</td>\n",
       "      <td>1</td>\n",
       "      <td>0</td>\n",
       "      <td>7.2500</td>\n",
       "    </tr>\n",
       "    <tr>\n",
       "      <th>1</th>\n",
       "      <td>1</td>\n",
       "      <td>1</td>\n",
       "      <td>Mrs. John Bradley (Florence Briggs Thayer) Cum...</td>\n",
       "      <td>female</td>\n",
       "      <td>38.0</td>\n",
       "      <td>1</td>\n",
       "      <td>0</td>\n",
       "      <td>71.2833</td>\n",
       "    </tr>\n",
       "    <tr>\n",
       "      <th>2</th>\n",
       "      <td>1</td>\n",
       "      <td>3</td>\n",
       "      <td>Miss. Laina Heikkinen</td>\n",
       "      <td>female</td>\n",
       "      <td>26.0</td>\n",
       "      <td>0</td>\n",
       "      <td>0</td>\n",
       "      <td>7.9250</td>\n",
       "    </tr>\n",
       "    <tr>\n",
       "      <th>3</th>\n",
       "      <td>1</td>\n",
       "      <td>1</td>\n",
       "      <td>Mrs. Jacques Heath (Lily May Peel) Futrelle</td>\n",
       "      <td>female</td>\n",
       "      <td>35.0</td>\n",
       "      <td>1</td>\n",
       "      <td>0</td>\n",
       "      <td>53.1000</td>\n",
       "    </tr>\n",
       "  </tbody>\n",
       "</table>\n",
       "</div>"
      ],
      "text/plain": [
       "   Survived  Pclass                                               Name  \\\n",
       "0         0       3                             Mr. Owen Harris Braund   \n",
       "1         1       1  Mrs. John Bradley (Florence Briggs Thayer) Cum...   \n",
       "2         1       3                              Miss. Laina Heikkinen   \n",
       "3         1       1        Mrs. Jacques Heath (Lily May Peel) Futrelle   \n",
       "\n",
       "      Sex   Age  Siblings/Spouses Aboard  Parents/Children Aboard     Fare  \n",
       "0    male  22.0                        1                        0   7.2500  \n",
       "1  female  38.0                        1                        0  71.2833  \n",
       "2  female  26.0                        0                        0   7.9250  \n",
       "3  female  35.0                        1                        0  53.1000  "
      ]
     },
     "execution_count": 2,
     "metadata": {},
     "output_type": "execute_result"
    }
   ],
   "source": [
    "data = pd.read_csv('titanic.csv')\n",
    "data.head(4)\n"
   ]
  },
  {
   "cell_type": "markdown",
   "id": "1db81137",
   "metadata": {},
   "source": [
    "+ Qual a quantidade de pessoas de ambos os sexos?"
   ]
  },
  {
   "cell_type": "code",
   "execution_count": 3,
   "id": "2b0b5d59",
   "metadata": {},
   "outputs": [
    {
     "name": "stdout",
     "output_type": "stream",
     "text": [
      "Sexo feminino = 314\n"
     ]
    }
   ],
   "source": [
    "sex = list(data['Sex'])\n",
    "sex_fem = sex.count('female')\n",
    "sex_male = sex.count('male')\n",
    "\n",
    "print(f'Sexo feminino = {sex_fem}')"
   ]
  },
  {
   "cell_type": "code",
   "execution_count": 4,
   "id": "d6713395",
   "metadata": {},
   "outputs": [
    {
     "name": "stdout",
     "output_type": "stream",
     "text": [
      "Sexo masculino = 573\n"
     ]
    }
   ],
   "source": [
    "print(f'Sexo masculino = {sex_male}')"
   ]
  },
  {
   "cell_type": "markdown",
   "id": "6e7cd8cd",
   "metadata": {},
   "source": [
    "+ Total de passageiros:"
   ]
  },
  {
   "cell_type": "code",
   "execution_count": 5,
   "id": "ddde6be6",
   "metadata": {},
   "outputs": [
    {
     "name": "stdout",
     "output_type": "stream",
     "text": [
      "Total = 887\n"
     ]
    }
   ],
   "source": [
    "tamanho = len(sex)\n",
    "print(f'Total = {tamanho}')"
   ]
  },
  {
   "cell_type": "markdown",
   "id": "b7989fdc",
   "metadata": {},
   "source": [
    "+ Dados percentuais em relação a população total:"
   ]
  },
  {
   "cell_type": "code",
   "execution_count": 6,
   "id": "fb6849f6",
   "metadata": {},
   "outputs": [
    {
     "name": "stdout",
     "output_type": "stream",
     "text": [
      "35.400225479143174% = sexo feminino!\n"
     ]
    }
   ],
   "source": [
    "p_fem = sex_fem / tamanho\n",
    "print(f'{p_fem * 100}% = sexo feminino!')\n"
   ]
  },
  {
   "cell_type": "code",
   "execution_count": 7,
   "id": "81243414",
   "metadata": {},
   "outputs": [
    {
     "name": "stdout",
     "output_type": "stream",
     "text": [
      "64.59977452085683% = sexo masculino!\n"
     ]
    }
   ],
   "source": [
    "p_m = (sex_male / tamanho)\n",
    "print(f'{p_m * 100}% = sexo masculino!')"
   ]
  },
  {
   "cell_type": "markdown",
   "id": "35c49617",
   "metadata": {},
   "source": [
    "+ Gráfico:"
   ]
  },
  {
   "cell_type": "code",
   "execution_count": 8,
   "id": "c1512402",
   "metadata": {},
   "outputs": [
    {
     "data": {
      "text/plain": [
       "<BarContainer object of 2 artists>"
      ]
     },
     "execution_count": 8,
     "metadata": {},
     "output_type": "execute_result"
    },
    {
     "data": {
      "image/png": "[encoded data removed]",
      "text/plain": [
       "<Figure size 432x288 with 1 Axes>"
      ]
     },
     "metadata": {
      "needs_background": "light"
     },
     "output_type": "display_data"
    }
   ],
   "source": [
    "n = 2\n",
    "x = range(1, n + 1)\n",
    "\n",
    "lista = []\n",
    "lista.append(p_fem)\n",
    "lista.append(p_m)\n",
    "lista\n",
    "\n",
    "plt.xlabel('Binário')\n",
    "plt.ylabel('Porcentagem')\n",
    "\n",
    "for a,b in zip(x, lista):\n",
    "    plt.text(a-0.25, b-0.02, str(round(b,4)), color='white')\n",
    "plt.title('Tripulantes do sexo Feminino e Masculino')\n",
    "plt.bar(x, lista, color ='green')\n"
   ]
  },
  {
   "cell_type": "markdown",
   "id": "3713c6e1",
   "metadata": {},
   "source": [
    "+ Qual a quantiade de pessoas de ambos os sexos que sobreviveram ao naufrágio?\n",
    "\n",
    "+ Qual a quantiade de pessoas de ambos os sexos que faleceram ao naufrágio?"
   ]
  },
  {
   "cell_type": "code",
   "execution_count": 9,
   "id": "8418deee",
   "metadata": {},
   "outputs": [
    {
     "data": {
      "text/html": [
       "<div>\n",
       "<style scoped>\n",
       "    .dataframe tbody tr th:only-of-type {\n",
       "        vertical-align: middle;\n",
       "    }\n",
       "\n",
       "    .dataframe tbody tr th {\n",
       "        vertical-align: top;\n",
       "    }\n",
       "\n",
       "    .dataframe thead th {\n",
       "        text-align: right;\n",
       "    }\n",
       "</style>\n",
       "<table border=\"1\" class=\"dataframe\">\n",
       "  <thead>\n",
       "    <tr style=\"text-align: right;\">\n",
       "      <th></th>\n",
       "      <th>Survived</th>\n",
       "      <th>Sex</th>\n",
       "    </tr>\n",
       "  </thead>\n",
       "  <tbody>\n",
       "    <tr>\n",
       "      <th>0</th>\n",
       "      <td>0</td>\n",
       "      <td>male</td>\n",
       "    </tr>\n",
       "    <tr>\n",
       "      <th>1</th>\n",
       "      <td>1</td>\n",
       "      <td>female</td>\n",
       "    </tr>\n",
       "    <tr>\n",
       "      <th>2</th>\n",
       "      <td>1</td>\n",
       "      <td>female</td>\n",
       "    </tr>\n",
       "    <tr>\n",
       "      <th>3</th>\n",
       "      <td>1</td>\n",
       "      <td>female</td>\n",
       "    </tr>\n",
       "  </tbody>\n",
       "</table>\n",
       "</div>"
      ],
      "text/plain": [
       "   Survived     Sex\n",
       "0         0    male\n",
       "1         1  female\n",
       "2         1  female\n",
       "3         1  female"
      ]
     },
     "execution_count": 9,
     "metadata": {},
     "output_type": "execute_result"
    }
   ],
   "source": [
    "sur_sex = data[['Survived', 'Sex']]\n",
    "sur_sex.head(4)"
   ]
  },
  {
   "cell_type": "markdown",
   "id": "97ea4ff5",
   "metadata": {},
   "source": [
    "+ Tripulantes do sexo masculino que não sobreviveram ao naufragio:"
   ]
  },
  {
   "cell_type": "code",
   "execution_count": 10,
   "id": "11fdc6e7",
   "metadata": {},
   "outputs": [
    {
     "name": "stdout",
     "output_type": "stream",
     "text": [
      "Não sobreviventes do sexo masculino = 464\n"
     ]
    }
   ],
   "source": [
    "data0 = pd.read_csv('titanic.csv')\n",
    "data0.loc[(data0['Survived'] == 0) & (data0['Sex'] == 'male'), 'Sex'] = 'n/s' \n",
    "data0[['Survived', 'Sex']]\n",
    "\n",
    "no_surv_male = list(data0['Sex'])\n",
    "\n",
    "no_surv_male = no_surv_male.count('n/s')\n",
    "\n",
    "print(f'Não sobreviventes do sexo masculino = {no_surv_male}')\n"
   ]
  },
  {
   "cell_type": "markdown",
   "id": "ff698172",
   "metadata": {},
   "source": [
    "+ Pessoas do sexo masculino que sobreviveram:"
   ]
  },
  {
   "cell_type": "code",
   "execution_count": 11,
   "id": "36868d25",
   "metadata": {},
   "outputs": [
    {
     "name": "stdout",
     "output_type": "stream",
     "text": [
      "Sobreviventes do sexo masculino = 109\n"
     ]
    }
   ],
   "source": [
    "data1 = pd.read_csv('titanic.csv')\n",
    "data1.loc[(data1['Survived'] == 1) & (data1['Sex'] == 'male'), 'Sex'] = 'yes/s'\n",
    "data1[50:60][['Survived', 'Sex']]\n",
    "data1 = list(data1['Sex'])\n",
    "\n",
    "yes_surv_male = data1.count('yes/s')\n",
    "\n",
    "print(f'Sobreviventes do sexo masculino = {yes_surv_male}')\n"
   ]
  },
  {
   "cell_type": "markdown",
   "id": "69ba7ba1",
   "metadata": {},
   "source": [
    "+ Pessoas do sexo feminino que não sobreviveram ao naufragio:"
   ]
  },
  {
   "cell_type": "code",
   "execution_count": 12,
   "id": "a2f6ea1a",
   "metadata": {},
   "outputs": [
    {
     "name": "stdout",
     "output_type": "stream",
     "text": [
      "Não sobreviventes do sexo feminino = 81\n"
     ]
    }
   ],
   "source": [
    "data0f = pd.read_csv('titanic.csv')\n",
    "data0f.loc[(data0f['Survived'] == 0) & (data0f['Sex'] == 'female'), 'Sex'] = 'n/s' \n",
    "data0f[['Survived', 'Sex']]\n",
    "no_surv_f = list(data0f['Sex'])\n",
    "\n",
    "no_surv_f = no_surv_f.count('n/s')\n",
    "\n",
    "print(f'Não sobreviventes do sexo feminino = {no_surv_f}')"
   ]
  },
  {
   "cell_type": "markdown",
   "id": "018a9409",
   "metadata": {},
   "source": [
    "+ Tripulantes do sexo feminino que sobreviveram:"
   ]
  },
  {
   "cell_type": "code",
   "execution_count": 13,
   "id": "c1596051",
   "metadata": {},
   "outputs": [
    {
     "name": "stdout",
     "output_type": "stream",
     "text": [
      "Sobreviventes do sexo feminino = 233\n"
     ]
    }
   ],
   "source": [
    "data1f = pd.read_csv('titanic.csv')\n",
    "data1f.loc[(data1f['Survived'] == 1) & (data1f['Sex'] == 'female'), 'Sex'] = 'yes/s' \n",
    "data1f[['Survived', 'Sex']]\n",
    "yes_surv_f = list(data1f['Sex'])\n",
    "yes_surv_f = yes_surv_f.count('yes/s')\n",
    "\n",
    "print(f'Sobreviventes do sexo feminino = {yes_surv_f}')\n"
   ]
  },
  {
   "cell_type": "markdown",
   "id": "1b197eb1",
   "metadata": {},
   "source": [
    "+ Número de vítimas do sexo masculino em relação a população total %:"
   ]
  },
  {
   "cell_type": "code",
   "execution_count": 14,
   "id": "5ff4d850",
   "metadata": {},
   "outputs": [
    {
     "name": "stdout",
     "output_type": "stream",
     "text": [
      "Taxa percentual de mortos do sexo masculino em relação a população total = 52.311161217587376%\n"
     ]
    }
   ],
   "source": [
    "p_m_t = (no_surv_male / 887) * 100\n",
    "print(f'Taxa percentual de mortos do sexo masculino em relação a população total = {p_m_t}%')\n"
   ]
  },
  {
   "cell_type": "markdown",
   "id": "c3388e08",
   "metadata": {},
   "source": [
    "+ Número de vítimas do sexo masculino em relação a população do sexo masculino %: "
   ]
  },
  {
   "cell_type": "code",
   "execution_count": 15,
   "id": "5508c752",
   "metadata": {},
   "outputs": [
    {
     "name": "stdout",
     "output_type": "stream",
     "text": [
      "Taxa percentual de mortos do sexo masculino em relação a população do sexo masculino = 80.97731239092496%\n"
     ]
    }
   ],
   "source": [
    "p_m_a = (no_surv_male / sex_male) * 100\n",
    "print(f'Taxa percentual de mortos do sexo masculino em relação a população do sexo masculino = {p_m_a}%')\n"
   ]
  },
  {
   "cell_type": "markdown",
   "id": "391426a7",
   "metadata": {},
   "source": [
    "+ Número de vítimas do sexo feminino em relação a população total:"
   ]
  },
  {
   "cell_type": "code",
   "execution_count": 16,
   "id": "5b10aee5",
   "metadata": {},
   "outputs": [
    {
     "name": "stdout",
     "output_type": "stream",
     "text": [
      "Taxa percentual de mortes do sexo feminino em relação a população total = 9.131905298759865%\n"
     ]
    }
   ],
   "source": [
    "p_f_t = (no_surv_f / 887 ) * 100\n",
    "print(f'Taxa percentual de mortes do sexo feminino em relação a população total = {p_f_t}%')\n"
   ]
  },
  {
   "cell_type": "markdown",
   "id": "e7ec1edc",
   "metadata": {},
   "source": [
    "+ Número de vítimas do sexo feminino em relação a população do sexo feminino:"
   ]
  },
  {
   "cell_type": "code",
   "execution_count": 17,
   "id": "740c6302",
   "metadata": {},
   "outputs": [
    {
     "name": "stdout",
     "output_type": "stream",
     "text": [
      "Taxa percentual de mortes do sexo feminino  em relação a população do sexo feminino = 25.796178343949045%\n"
     ]
    }
   ],
   "source": [
    "p_f_a = (no_surv_f / sex_fem) * 100\n",
    "print(f'Taxa percentual de mortes do sexo feminino  em relação a população do sexo feminino = {p_f_a}%')"
   ]
  },
  {
   "cell_type": "markdown",
   "id": "0b221236",
   "metadata": {},
   "source": [
    "+ Número de vítimas e sobreviventes de ambos os sexos;"
   ]
  },
  {
   "cell_type": "code",
   "execution_count": 18,
   "id": "7243a580",
   "metadata": {},
   "outputs": [
    {
     "data": {
      "image/png": "[encoded data removed]",
      "text/plain": [
       "<Figure size 432x288 with 1 Axes>"
      ]
     },
     "metadata": {},
     "output_type": "display_data"
    }
   ],
   "source": [
    "labels = 'Male no survived', 'Female no survived', 'Male survived', 'Female survived'\n",
    "sizes = [464, 81, 109, 233]\n",
    "explode = (0, 0.1, 0, 0)  \n",
    "fig1, ax1 = plt.subplots()\n",
    "ax1.pie(sizes, explode=explode, labels=labels, autopct='%1.1f%%',\n",
    "        shadow=True, startangle=90)\n",
    "ax1.axis('equal') \n",
    "ax1.set_title(\"Mortes - Sobreviventes\")\n",
    "plt.show()\n",
    "\n"
   ]
  },
  {
   "cell_type": "markdown",
   "id": "066b3f2d",
   "metadata": {},
   "source": [
    "+ Sobreviventes e não sobreviventes do sexo masculino:"
   ]
  },
  {
   "cell_type": "code",
   "execution_count": 19,
   "id": "a30172bf",
   "metadata": {},
   "outputs": [
    {
     "data": {
      "image/png": "[encoded data removed]",
      "text/plain": [
       "<Figure size 432x288 with 1 Axes>"
      ]
     },
     "metadata": {},
     "output_type": "display_data"
    }
   ],
   "source": [
    "labels = 'No survived', 'Survived'\n",
    "sizes = [464, 104]\n",
    "explode = (0, 0.1)  \n",
    "\n",
    "fig1, ax1 = plt.subplots()\n",
    "ax1.pie(sizes, explode=explode, labels=labels, autopct='%1.1f%%',\n",
    "        shadow=True, startangle=90)\n",
    "\n",
    "ax1.axis('equal') \n",
    "ax1.set_title(\"Sobreviventes e não sobreviventes do sexo masculino\")\n",
    "plt.show()"
   ]
  },
  {
   "cell_type": "markdown",
   "id": "00dfe136",
   "metadata": {},
   "source": [
    "+ Sobreviventes e não sobreviventes do sexo feminino:"
   ]
  },
  {
   "cell_type": "code",
   "execution_count": 20,
   "id": "fd7dad82",
   "metadata": {},
   "outputs": [
    {
     "data": {
      "image/png": "[encoded data removed]",
      "text/plain": [
       "<Figure size 432x288 with 1 Axes>"
      ]
     },
     "metadata": {},
     "output_type": "display_data"
    }
   ],
   "source": [
    "labels = 'No survived', 'Survived'\n",
    "sizes = [81, 233]\n",
    "explode = (0, 0.1)  \n",
    "\n",
    "fig1, ax1 = plt.subplots()\n",
    "ax1.pie(sizes, explode=explode, labels=labels, autopct='%1.1f%%',\n",
    "        shadow=True, startangle=90)\n",
    "\n",
    "ax1.axis('equal') \n",
    "ax1.set_title(\"Sobreviventes e não sobreviventes do sexo feminino\")\n",
    "plt.show()"
   ]
  },
  {
   "cell_type": "markdown",
   "id": "99eec29a",
   "metadata": {},
   "source": [
    "#### Em ralação as idades"
   ]
  },
  {
   "cell_type": "code",
   "execution_count": 21,
   "id": "fc505729",
   "metadata": {},
   "outputs": [
    {
     "data": {
      "text/html": [
       "<div>\n",
       "<style scoped>\n",
       "    .dataframe tbody tr th:only-of-type {\n",
       "        vertical-align: middle;\n",
       "    }\n",
       "\n",
       "    .dataframe tbody tr th {\n",
       "        vertical-align: top;\n",
       "    }\n",
       "\n",
       "    .dataframe thead th {\n",
       "        text-align: right;\n",
       "    }\n",
       "</style>\n",
       "<table border=\"1\" class=\"dataframe\">\n",
       "  <thead>\n",
       "    <tr style=\"text-align: right;\">\n",
       "      <th></th>\n",
       "      <th>Age</th>\n",
       "    </tr>\n",
       "  </thead>\n",
       "  <tbody>\n",
       "    <tr>\n",
       "      <th>count</th>\n",
       "      <td>887.000000</td>\n",
       "    </tr>\n",
       "    <tr>\n",
       "      <th>mean</th>\n",
       "      <td>29.471443</td>\n",
       "    </tr>\n",
       "    <tr>\n",
       "      <th>std</th>\n",
       "      <td>14.121908</td>\n",
       "    </tr>\n",
       "    <tr>\n",
       "      <th>min</th>\n",
       "      <td>0.420000</td>\n",
       "    </tr>\n",
       "    <tr>\n",
       "      <th>25%</th>\n",
       "      <td>20.250000</td>\n",
       "    </tr>\n",
       "    <tr>\n",
       "      <th>50%</th>\n",
       "      <td>28.000000</td>\n",
       "    </tr>\n",
       "    <tr>\n",
       "      <th>75%</th>\n",
       "      <td>38.000000</td>\n",
       "    </tr>\n",
       "    <tr>\n",
       "      <th>max</th>\n",
       "      <td>80.000000</td>\n",
       "    </tr>\n",
       "  </tbody>\n",
       "</table>\n",
       "</div>"
      ],
      "text/plain": [
       "              Age\n",
       "count  887.000000\n",
       "mean    29.471443\n",
       "std     14.121908\n",
       "min      0.420000\n",
       "25%     20.250000\n",
       "50%     28.000000\n",
       "75%     38.000000\n",
       "max     80.000000"
      ]
     },
     "execution_count": 21,
     "metadata": {},
     "output_type": "execute_result"
    }
   ],
   "source": [
    "age = pd.read_csv('titanic.csv')\n",
    "age = age[['Age']]\n",
    "age.describe()"
   ]
  },
  {
   "cell_type": "code",
   "execution_count": 22,
   "id": "60ca0173",
   "metadata": {},
   "outputs": [
    {
     "data": {
      "text/plain": [
       "<AxesSubplot:title={'center':'Distrubuição de frequência das idades'}, xlabel='Idades', ylabel='Frequency'>"
      ]
     },
     "execution_count": 22,
     "metadata": {},
     "output_type": "execute_result"
    },
    {
     "data": {
      "image/png": "[encoded data removed]",
      "text/plain": [
       "<Figure size 432x288 with 1 Axes>"
      ]
     },
     "metadata": {
      "needs_background": "light"
     },
     "output_type": "display_data"
    }
   ],
   "source": [
    "plt.title('Distrubuição de frequência das idades')\n",
    "plt.xlabel('Idades')\n",
    "age['Age'].plot.hist(bins = 150, color = 'blue')\n",
    "#plt.style.use('dark_background')\n"
   ]
  },
  {
   "cell_type": "code",
   "execution_count": 23,
   "id": "15307a1a",
   "metadata": {},
   "outputs": [
    {
     "data": {
      "text/plain": [
       "<AxesSubplot:title={'center':'Distrubuição'}, xlabel='Idades', ylabel='Density'>"
      ]
     },
     "execution_count": 23,
     "metadata": {},
     "output_type": "execute_result"
    },
    {
     "data": {
      "image/png": "[encoded data removed]",
      "text/plain": [
       "<Figure size 432x288 with 1 Axes>"
      ]
     },
     "metadata": {
      "needs_background": "light"
     },
     "output_type": "display_data"
    }
   ],
   "source": [
    "plt.title('Distrubuição')\n",
    "plt.xlabel('Idades')\n",
    "age['Age'].plot.kde(color = 'blue')\n",
    "#plt.style.use('dark_background')"
   ]
  },
  {
   "cell_type": "code",
   "execution_count": 24,
   "id": "423c8632",
   "metadata": {},
   "outputs": [
    {
     "data": {
      "image/png": "[encoded data removed]",
      "text/plain": [
       "<Figure size 396x396 with 1 Axes>"
      ]
     },
     "metadata": {
      "needs_background": "light"
     },
     "output_type": "display_data"
    }
   ],
   "source": [
    "fig = plt.figure(figsize =(5.5, 5.5))\n",
    "plt.boxplot(age)\n",
    "plt.show()"
   ]
  },
  {
   "cell_type": "markdown",
   "id": "2b81183c",
   "metadata": {},
   "source": [
    "#### Classes dos tripulantes: Class 1, class 2, class 3;\n",
    "\n",
    "+ High class 1; \n",
    "+ Medium class 2; \n",
    "+ Low class 3;"
   ]
  },
  {
   "cell_type": "code",
   "execution_count": 25,
   "id": "f9fe44d5",
   "metadata": {},
   "outputs": [
    {
     "data": {
      "text/html": [
       "<div>\n",
       "<style scoped>\n",
       "    .dataframe tbody tr th:only-of-type {\n",
       "        vertical-align: middle;\n",
       "    }\n",
       "\n",
       "    .dataframe tbody tr th {\n",
       "        vertical-align: top;\n",
       "    }\n",
       "\n",
       "    .dataframe thead th {\n",
       "        text-align: right;\n",
       "    }\n",
       "</style>\n",
       "<table border=\"1\" class=\"dataframe\">\n",
       "  <thead>\n",
       "    <tr style=\"text-align: right;\">\n",
       "      <th></th>\n",
       "      <th>Pclass</th>\n",
       "    </tr>\n",
       "  </thead>\n",
       "  <tbody>\n",
       "    <tr>\n",
       "      <th>0</th>\n",
       "      <td>3</td>\n",
       "    </tr>\n",
       "    <tr>\n",
       "      <th>1</th>\n",
       "      <td>1</td>\n",
       "    </tr>\n",
       "    <tr>\n",
       "      <th>2</th>\n",
       "      <td>3</td>\n",
       "    </tr>\n",
       "    <tr>\n",
       "      <th>3</th>\n",
       "      <td>1</td>\n",
       "    </tr>\n",
       "    <tr>\n",
       "      <th>4</th>\n",
       "      <td>3</td>\n",
       "    </tr>\n",
       "    <tr>\n",
       "      <th>5</th>\n",
       "      <td>3</td>\n",
       "    </tr>\n",
       "    <tr>\n",
       "      <th>6</th>\n",
       "      <td>1</td>\n",
       "    </tr>\n",
       "    <tr>\n",
       "      <th>7</th>\n",
       "      <td>3</td>\n",
       "    </tr>\n",
       "  </tbody>\n",
       "</table>\n",
       "</div>"
      ],
      "text/plain": [
       "   Pclass\n",
       "0       3\n",
       "1       1\n",
       "2       3\n",
       "3       1\n",
       "4       3\n",
       "5       3\n",
       "6       1\n",
       "7       3"
      ]
     },
     "execution_count": 25,
     "metadata": {},
     "output_type": "execute_result"
    }
   ],
   "source": [
    "dados_pclass = pd.read_csv('titanic.csv')\n",
    "pclass = dados_pclass[['Pclass']]\n",
    "\n",
    "pclass.head(8)"
   ]
  },
  {
   "cell_type": "markdown",
   "id": "0c634fe4",
   "metadata": {},
   "source": [
    "+ For high class:"
   ]
  },
  {
   "cell_type": "code",
   "execution_count": 26,
   "id": "e284bad9",
   "metadata": {},
   "outputs": [
    {
     "name": "stdout",
     "output_type": "stream",
     "text": [
      "high class = 487\n"
     ]
    }
   ],
   "source": [
    "f_hight = list(dados_pclass['Pclass'])\n",
    "\n",
    "for i in f_hight:\n",
    "    class_hight = f_hight.count(3)    \n",
    "print(f'high class = {class_hight}')    \n"
   ]
  },
  {
   "cell_type": "markdown",
   "id": "0a61c714",
   "metadata": {},
   "source": [
    "+ For medium class:"
   ]
  },
  {
   "cell_type": "code",
   "execution_count": 27,
   "id": "1ed9e8e1",
   "metadata": {},
   "outputs": [
    {
     "name": "stdout",
     "output_type": "stream",
     "text": [
      "medium class = 184\n"
     ]
    }
   ],
   "source": [
    "f_medium = list(dados_pclass['Pclass'])\n",
    "\n",
    "for i in f_medium:\n",
    "    class_medium = f_medium.count(2)    \n",
    "print(f'medium class = {class_medium}')"
   ]
  },
  {
   "cell_type": "markdown",
   "id": "98eb43e5",
   "metadata": {},
   "source": [
    "+ For low class:"
   ]
  },
  {
   "cell_type": "code",
   "execution_count": 28,
   "id": "6efa17d9",
   "metadata": {},
   "outputs": [
    {
     "name": "stdout",
     "output_type": "stream",
     "text": [
      "Low class = 216\n"
     ]
    }
   ],
   "source": [
    "f_low = list(dados_pclass['Pclass'])\n",
    "\n",
    "for i in f_low:\n",
    "    class_low = f_low.count(1)    \n",
    "print(f'Low class = {class_low}')"
   ]
  },
  {
   "cell_type": "markdown",
   "id": "7fb26eff",
   "metadata": {},
   "source": [
    "+ Aqui criamos a área que plotamos o gráfico e definimos seu tamanho:"
   ]
  },
  {
   "cell_type": "code",
   "execution_count": 29,
   "id": "9f7e3631",
   "metadata": {},
   "outputs": [
    {
     "data": {
      "image/png": "[encoded data removed]",
      "text/plain": [
       "<Figure size 720x360 with 1 Axes>"
      ]
     },
     "metadata": {},
     "output_type": "display_data"
    }
   ],
   "source": [
    "fig, ax = plt.subplots(figsize=(10, 5), subplot_kw=dict(aspect=\"equal\"))\n",
    " \n",
    "recipe = [\"High\",\n",
    "          \"Medium\",\n",
    "          \"Low\"]\n",
    " \n",
    "data = [487, 184, 216]\n",
    "\n",
    "# Aqui serão colocados os kg e as porcentagens no gráfico\n",
    "def func(pct, allvals):\n",
    "    # calc %\n",
    "    absolute = int(pct/100.*np.sum(allvals))\n",
    "    # fazendo legenda do gráfico com % e kg\n",
    "    return \"{:.1f}%\".format(pct, absolute)\n",
    "\n",
    "# Criando o gráfico e colocando a função da legenda interna\n",
    "wedges, texts, autotexts = ax.pie(data, autopct=lambda pct: func(pct, data),\n",
    "                                  textprops=dict(color=\"w\"))\n",
    "\n",
    "# Definindo a caixa de legenda externa, título, localização e onde vai 'ancorar o box'\n",
    "ax.legend(wedges, recipe,\n",
    "          title=\"Cless\",\n",
    "          loc=\"center left\",\n",
    "          bbox_to_anchor=(1, 0, 0.5, 1))\n",
    "\n",
    "# Aqui definimos o tamanho do texto de dentro do gráfico, e o peso da fonte como bold\n",
    "plt.setp(autotexts, size=8, weight=\"bold\")\n",
    "\n",
    "ax.set_title(\"Class:\")\n",
    "plt.show()"
   ]
  },
  {
   "cell_type": "markdown",
   "id": "e7165528",
   "metadata": {},
   "source": [
    "#### Tarifa ('Fare') \n",
    "\n",
    "+ Tarifa de cada classe;\n",
    "+ Somatório do valor da tarifa de cada classe;\n",
    "+ Tarifa mais alta;\n",
    "+ Tarifa mais Baixa;\n",
    "+ Tarifa Média;\n",
    "+ Moda;"
   ]
  },
  {
   "cell_type": "code",
   "execution_count": 30,
   "id": "4cb50f05",
   "metadata": {},
   "outputs": [
    {
     "data": {
      "text/html": [
       "<div>\n",
       "<style scoped>\n",
       "    .dataframe tbody tr th:only-of-type {\n",
       "        vertical-align: middle;\n",
       "    }\n",
       "\n",
       "    .dataframe tbody tr th {\n",
       "        vertical-align: top;\n",
       "    }\n",
       "\n",
       "    .dataframe thead th {\n",
       "        text-align: right;\n",
       "    }\n",
       "</style>\n",
       "<table border=\"1\" class=\"dataframe\">\n",
       "  <thead>\n",
       "    <tr style=\"text-align: right;\">\n",
       "      <th></th>\n",
       "      <th>Survived</th>\n",
       "      <th>Pclass</th>\n",
       "      <th>Name</th>\n",
       "      <th>Sex</th>\n",
       "      <th>Age</th>\n",
       "      <th>Siblings/Spouses Aboard</th>\n",
       "      <th>Parents/Children Aboard</th>\n",
       "      <th>Fare</th>\n",
       "    </tr>\n",
       "  </thead>\n",
       "  <tbody>\n",
       "    <tr>\n",
       "      <th>0</th>\n",
       "      <td>0</td>\n",
       "      <td>3</td>\n",
       "      <td>Mr. Owen Harris Braund</td>\n",
       "      <td>male</td>\n",
       "      <td>22.0</td>\n",
       "      <td>1</td>\n",
       "      <td>0</td>\n",
       "      <td>7.2500</td>\n",
       "    </tr>\n",
       "    <tr>\n",
       "      <th>1</th>\n",
       "      <td>1</td>\n",
       "      <td>1</td>\n",
       "      <td>Mrs. John Bradley (Florence Briggs Thayer) Cum...</td>\n",
       "      <td>female</td>\n",
       "      <td>38.0</td>\n",
       "      <td>1</td>\n",
       "      <td>0</td>\n",
       "      <td>71.2833</td>\n",
       "    </tr>\n",
       "    <tr>\n",
       "      <th>2</th>\n",
       "      <td>1</td>\n",
       "      <td>3</td>\n",
       "      <td>Miss. Laina Heikkinen</td>\n",
       "      <td>female</td>\n",
       "      <td>26.0</td>\n",
       "      <td>0</td>\n",
       "      <td>0</td>\n",
       "      <td>7.9250</td>\n",
       "    </tr>\n",
       "    <tr>\n",
       "      <th>3</th>\n",
       "      <td>1</td>\n",
       "      <td>1</td>\n",
       "      <td>Mrs. Jacques Heath (Lily May Peel) Futrelle</td>\n",
       "      <td>female</td>\n",
       "      <td>35.0</td>\n",
       "      <td>1</td>\n",
       "      <td>0</td>\n",
       "      <td>53.1000</td>\n",
       "    </tr>\n",
       "  </tbody>\n",
       "</table>\n",
       "</div>"
      ],
      "text/plain": [
       "   Survived  Pclass                                               Name  \\\n",
       "0         0       3                             Mr. Owen Harris Braund   \n",
       "1         1       1  Mrs. John Bradley (Florence Briggs Thayer) Cum...   \n",
       "2         1       3                              Miss. Laina Heikkinen   \n",
       "3         1       1        Mrs. Jacques Heath (Lily May Peel) Futrelle   \n",
       "\n",
       "      Sex   Age  Siblings/Spouses Aboard  Parents/Children Aboard     Fare  \n",
       "0    male  22.0                        1                        0   7.2500  \n",
       "1  female  38.0                        1                        0  71.2833  \n",
       "2  female  26.0                        0                        0   7.9250  \n",
       "3  female  35.0                        1                        0  53.1000  "
      ]
     },
     "execution_count": 30,
     "metadata": {},
     "output_type": "execute_result"
    }
   ],
   "source": [
    "data_f = pd.read_csv('titanic.csv')\n",
    "data_fare = list(data_f['Fare'])\n",
    "data_f.head(4)\n",
    "\n"
   ]
  },
  {
   "cell_type": "markdown",
   "id": "434b081c",
   "metadata": {},
   "source": [
    "+ Sum Fare:"
   ]
  },
  {
   "cell_type": "code",
   "execution_count": 31,
   "id": "cf05796c",
   "metadata": {},
   "outputs": [
    {
     "data": {
      "text/plain": [
       "28654.907699999967"
      ]
     },
     "execution_count": 31,
     "metadata": {},
     "output_type": "execute_result"
    }
   ],
   "source": [
    "sum_f = sum(data_fare)\n",
    "sum_f"
   ]
  },
  {
   "cell_type": "markdown",
   "id": "878b3095",
   "metadata": {},
   "source": [
    "+ Class 1;\n",
    "+ High;"
   ]
  },
  {
   "cell_type": "code",
   "execution_count": 32,
   "id": "e0a71e16",
   "metadata": {},
   "outputs": [
    {
     "data": {
      "text/html": [
       "<div>\n",
       "<style scoped>\n",
       "    .dataframe tbody tr th:only-of-type {\n",
       "        vertical-align: middle;\n",
       "    }\n",
       "\n",
       "    .dataframe tbody tr th {\n",
       "        vertical-align: top;\n",
       "    }\n",
       "\n",
       "    .dataframe thead th {\n",
       "        text-align: right;\n",
       "    }\n",
       "</style>\n",
       "<table border=\"1\" class=\"dataframe\">\n",
       "  <thead>\n",
       "    <tr style=\"text-align: right;\">\n",
       "      <th></th>\n",
       "      <th>Pclass</th>\n",
       "      <th>Fare</th>\n",
       "    </tr>\n",
       "  </thead>\n",
       "  <tbody>\n",
       "    <tr>\n",
       "      <th>1</th>\n",
       "      <td>1</td>\n",
       "      <td>71.2833</td>\n",
       "    </tr>\n",
       "    <tr>\n",
       "      <th>3</th>\n",
       "      <td>1</td>\n",
       "      <td>53.1000</td>\n",
       "    </tr>\n",
       "    <tr>\n",
       "      <th>6</th>\n",
       "      <td>1</td>\n",
       "      <td>51.8625</td>\n",
       "    </tr>\n",
       "    <tr>\n",
       "      <th>11</th>\n",
       "      <td>1</td>\n",
       "      <td>26.5500</td>\n",
       "    </tr>\n",
       "  </tbody>\n",
       "</table>\n",
       "</div>"
      ],
      "text/plain": [
       "    Pclass     Fare\n",
       "1        1  71.2833\n",
       "3        1  53.1000\n",
       "6        1  51.8625\n",
       "11       1  26.5500"
      ]
     },
     "execution_count": 32,
     "metadata": {},
     "output_type": "execute_result"
    }
   ],
   "source": [
    "slicing_data_frame = data_f.loc[(data_f['Pclass']==1) & (data_f['Fare'] > 0)]\n",
    "slicing_data_frame[['Pclass', 'Fare']].head(4)\n"
   ]
  },
  {
   "cell_type": "markdown",
   "id": "b072d10d",
   "metadata": {},
   "source": [
    "+ Sum of class 1: "
   ]
  },
  {
   "cell_type": "code",
   "execution_count": 33,
   "id": "76fb9647",
   "metadata": {},
   "outputs": [
    {
     "data": {
      "text/plain": [
       "18177.412499999984"
      ]
     },
     "execution_count": 33,
     "metadata": {},
     "output_type": "execute_result"
    }
   ],
   "source": [
    "data_c1 = list(slicing_data_frame['Fare'])\n",
    "s = sum(data_c1)\n",
    "s"
   ]
  },
  {
   "cell_type": "markdown",
   "id": "ac92de32",
   "metadata": {},
   "source": [
    "+ Max of class 1:"
   ]
  },
  {
   "cell_type": "code",
   "execution_count": 34,
   "id": "cd53892e",
   "metadata": {},
   "outputs": [
    {
     "data": {
      "text/plain": [
       "512.3292"
      ]
     },
     "execution_count": 34,
     "metadata": {},
     "output_type": "execute_result"
    }
   ],
   "source": [
    "max_ = np.amax(data_c1)\n",
    "max_"
   ]
  },
  {
   "cell_type": "markdown",
   "id": "6f1d886a",
   "metadata": {},
   "source": [
    "+ Min of class 1: "
   ]
  },
  {
   "cell_type": "code",
   "execution_count": 35,
   "id": "c039f106",
   "metadata": {},
   "outputs": [
    {
     "data": {
      "text/plain": [
       "5.0"
      ]
     },
     "execution_count": 35,
     "metadata": {},
     "output_type": "execute_result"
    }
   ],
   "source": [
    "min_ = np.amin(data_c1)\n",
    "min_"
   ]
  },
  {
   "cell_type": "markdown",
   "id": "66299845",
   "metadata": {},
   "source": [
    "+ Mean of class 1:"
   ]
  },
  {
   "cell_type": "code",
   "execution_count": 36,
   "id": "f831e9d6",
   "metadata": {},
   "outputs": [
    {
     "data": {
      "text/plain": [
       "86.14887440758294"
      ]
     },
     "execution_count": 36,
     "metadata": {},
     "output_type": "execute_result"
    }
   ],
   "source": [
    "m = np.mean(data_c1)\n",
    "m"
   ]
  },
  {
   "cell_type": "markdown",
   "id": "9999ff80",
   "metadata": {},
   "source": [
    "+ Mode of class 1:"
   ]
  },
  {
   "cell_type": "code",
   "execution_count": 37,
   "id": "f079c537",
   "metadata": {},
   "outputs": [
    {
     "data": {
      "text/plain": [
       "26.55"
      ]
     },
     "execution_count": 37,
     "metadata": {},
     "output_type": "execute_result"
    }
   ],
   "source": [
    "mode_c1 = st.mode(data_c1)\n",
    "mode_c1"
   ]
  },
  {
   "cell_type": "markdown",
   "id": "789d17d1",
   "metadata": {},
   "source": [
    "+ Class 2:"
   ]
  },
  {
   "cell_type": "code",
   "execution_count": 38,
   "id": "fc8ff7ca",
   "metadata": {},
   "outputs": [
    {
     "data": {
      "text/html": [
       "<div>\n",
       "<style scoped>\n",
       "    .dataframe tbody tr th:only-of-type {\n",
       "        vertical-align: middle;\n",
       "    }\n",
       "\n",
       "    .dataframe tbody tr th {\n",
       "        vertical-align: top;\n",
       "    }\n",
       "\n",
       "    .dataframe thead th {\n",
       "        text-align: right;\n",
       "    }\n",
       "</style>\n",
       "<table border=\"1\" class=\"dataframe\">\n",
       "  <thead>\n",
       "    <tr style=\"text-align: right;\">\n",
       "      <th></th>\n",
       "      <th>Pclass</th>\n",
       "      <th>Fare</th>\n",
       "    </tr>\n",
       "  </thead>\n",
       "  <tbody>\n",
       "    <tr>\n",
       "      <th>9</th>\n",
       "      <td>2</td>\n",
       "      <td>30.0708</td>\n",
       "    </tr>\n",
       "    <tr>\n",
       "      <th>15</th>\n",
       "      <td>2</td>\n",
       "      <td>16.0000</td>\n",
       "    </tr>\n",
       "    <tr>\n",
       "      <th>17</th>\n",
       "      <td>2</td>\n",
       "      <td>13.0000</td>\n",
       "    </tr>\n",
       "    <tr>\n",
       "      <th>20</th>\n",
       "      <td>2</td>\n",
       "      <td>26.0000</td>\n",
       "    </tr>\n",
       "  </tbody>\n",
       "</table>\n",
       "</div>"
      ],
      "text/plain": [
       "    Pclass     Fare\n",
       "9        2  30.0708\n",
       "15       2  16.0000\n",
       "17       2  13.0000\n",
       "20       2  26.0000"
      ]
     },
     "execution_count": 38,
     "metadata": {},
     "output_type": "execute_result"
    }
   ],
   "source": [
    "slic_data_frame = data_f.loc[(data_f['Pclass']==2) & (data_f['Fare']>0)]\n",
    "slic_data_frame[['Pclass', 'Fare']].head(4)\n"
   ]
  },
  {
   "cell_type": "markdown",
   "id": "d4e7ae16",
   "metadata": {},
   "source": [
    "+ Sum of class 2:"
   ]
  },
  {
   "cell_type": "code",
   "execution_count": 39,
   "id": "fe2dbcbd",
   "metadata": {},
   "outputs": [
    {
     "data": {
      "text/plain": [
       "3801.8417"
      ]
     },
     "execution_count": 39,
     "metadata": {},
     "output_type": "execute_result"
    }
   ],
   "source": [
    "data_f_c2 = list(slic_data_frame['Fare'])\n",
    "sum_f_c2 = np.sum(data_f_c2)\n",
    "sum_f_c2"
   ]
  },
  {
   "cell_type": "markdown",
   "id": "953441a3",
   "metadata": {},
   "source": [
    "+ Max of class 2: "
   ]
  },
  {
   "cell_type": "code",
   "execution_count": 40,
   "id": "590617f2",
   "metadata": {},
   "outputs": [
    {
     "data": {
      "text/plain": [
       "73.5"
      ]
     },
     "execution_count": 40,
     "metadata": {},
     "output_type": "execute_result"
    }
   ],
   "source": [
    "max_c2 = np.amax(data_f_c2)\n",
    "max_c2"
   ]
  },
  {
   "cell_type": "markdown",
   "id": "a7eb478a",
   "metadata": {},
   "source": [
    "+ Min of class 2:"
   ]
  },
  {
   "cell_type": "code",
   "execution_count": 41,
   "id": "415c7ecd",
   "metadata": {},
   "outputs": [
    {
     "data": {
      "text/plain": [
       "10.5"
      ]
     },
     "execution_count": 41,
     "metadata": {},
     "output_type": "execute_result"
    }
   ],
   "source": [
    "min_c2 = np.amin(data_f_c2)\n",
    "min_c2"
   ]
  },
  {
   "cell_type": "markdown",
   "id": "0cca238c",
   "metadata": {},
   "source": [
    "+  Mean of class 2:"
   ]
  },
  {
   "cell_type": "code",
   "execution_count": 42,
   "id": "12c9264a",
   "metadata": {},
   "outputs": [
    {
     "data": {
      "text/plain": [
       "21.358661235955054"
      ]
     },
     "execution_count": 42,
     "metadata": {},
     "output_type": "execute_result"
    }
   ],
   "source": [
    "mean_c2 = np.mean(data_f_c2)\n",
    "mean_c2"
   ]
  },
  {
   "cell_type": "markdown",
   "id": "84d0d0b7",
   "metadata": {},
   "source": [
    "+ Mode of class 2: "
   ]
  },
  {
   "cell_type": "code",
   "execution_count": 43,
   "id": "6d0d4056",
   "metadata": {},
   "outputs": [
    {
     "data": {
      "text/plain": [
       "13.0"
      ]
     },
     "execution_count": 43,
     "metadata": {},
     "output_type": "execute_result"
    }
   ],
   "source": [
    "mode_c2 = st.mode(data_f_c2)\n",
    "mode_c2"
   ]
  },
  {
   "cell_type": "markdown",
   "id": "890812d9",
   "metadata": {},
   "source": [
    "+  Class 3 fare: "
   ]
  },
  {
   "cell_type": "code",
   "execution_count": 44,
   "id": "51080650",
   "metadata": {},
   "outputs": [
    {
     "data": {
      "text/html": [
       "<div>\n",
       "<style scoped>\n",
       "    .dataframe tbody tr th:only-of-type {\n",
       "        vertical-align: middle;\n",
       "    }\n",
       "\n",
       "    .dataframe tbody tr th {\n",
       "        vertical-align: top;\n",
       "    }\n",
       "\n",
       "    .dataframe thead th {\n",
       "        text-align: right;\n",
       "    }\n",
       "</style>\n",
       "<table border=\"1\" class=\"dataframe\">\n",
       "  <thead>\n",
       "    <tr style=\"text-align: right;\">\n",
       "      <th></th>\n",
       "      <th>Pclass</th>\n",
       "      <th>Fare</th>\n",
       "    </tr>\n",
       "  </thead>\n",
       "  <tbody>\n",
       "    <tr>\n",
       "      <th>0</th>\n",
       "      <td>3</td>\n",
       "      <td>7.2500</td>\n",
       "    </tr>\n",
       "    <tr>\n",
       "      <th>2</th>\n",
       "      <td>3</td>\n",
       "      <td>7.9250</td>\n",
       "    </tr>\n",
       "    <tr>\n",
       "      <th>4</th>\n",
       "      <td>3</td>\n",
       "      <td>8.0500</td>\n",
       "    </tr>\n",
       "    <tr>\n",
       "      <th>5</th>\n",
       "      <td>3</td>\n",
       "      <td>8.4583</td>\n",
       "    </tr>\n",
       "  </tbody>\n",
       "</table>\n",
       "</div>"
      ],
      "text/plain": [
       "   Pclass    Fare\n",
       "0       3  7.2500\n",
       "2       3  7.9250\n",
       "4       3  8.0500\n",
       "5       3  8.4583"
      ]
     },
     "execution_count": 44,
     "metadata": {},
     "output_type": "execute_result"
    }
   ],
   "source": [
    "slic_data_frame3 = data_f.loc[(data_f['Pclass']==3) & (data_f['Fare']>0)]\n",
    "slic_data_frame3[['Pclass', 'Fare']].head(4)\n",
    "                              "
   ]
  },
  {
   "cell_type": "markdown",
   "id": "c62338ed",
   "metadata": {},
   "source": [
    "+ Sum of class 3: "
   ]
  },
  {
   "cell_type": "code",
   "execution_count": 45,
   "id": "e37f43a0",
   "metadata": {},
   "outputs": [
    {
     "data": {
      "text/plain": [
       "6675.653500000002"
      ]
     },
     "execution_count": 45,
     "metadata": {},
     "output_type": "execute_result"
    }
   ],
   "source": [
    "data_f_c3 = list(slic_data_frame3['Fare'])\n",
    "sum_c3 = sum(data_f_c3)\n",
    "sum_c3"
   ]
  },
  {
   "cell_type": "markdown",
   "id": "aa97244d",
   "metadata": {},
   "source": [
    "+ Max of class 3: "
   ]
  },
  {
   "cell_type": "code",
   "execution_count": 46,
   "id": "e098e26c",
   "metadata": {},
   "outputs": [
    {
     "data": {
      "text/plain": [
       "69.55"
      ]
     },
     "execution_count": 46,
     "metadata": {},
     "output_type": "execute_result"
    }
   ],
   "source": [
    "max_c3 = np.amax(data_f_c3)\n",
    "max_c3"
   ]
  },
  {
   "cell_type": "markdown",
   "id": "e29ef815",
   "metadata": {},
   "source": [
    "+ Min of class 3: "
   ]
  },
  {
   "cell_type": "code",
   "execution_count": 47,
   "id": "2c96828f",
   "metadata": {},
   "outputs": [
    {
     "data": {
      "text/plain": [
       "4.0125"
      ]
     },
     "execution_count": 47,
     "metadata": {},
     "output_type": "execute_result"
    }
   ],
   "source": [
    "min_c3 = np.amin(data_f_c3)\n",
    "min_c3"
   ]
  },
  {
   "cell_type": "markdown",
   "id": "69b78556",
   "metadata": {},
   "source": [
    "+ Mean of class 3: "
   ]
  },
  {
   "cell_type": "code",
   "execution_count": 48,
   "id": "88888ee7",
   "metadata": {},
   "outputs": [
    {
     "data": {
      "text/plain": [
       "13.82122877846791"
      ]
     },
     "execution_count": 48,
     "metadata": {},
     "output_type": "execute_result"
    }
   ],
   "source": [
    "mean_c3 = np.mean(data_f_c3)\n",
    "mean_c3"
   ]
  },
  {
   "cell_type": "markdown",
   "id": "4573cb3f",
   "metadata": {},
   "source": [
    "+ Mode of class 3: "
   ]
  },
  {
   "cell_type": "code",
   "execution_count": 49,
   "id": "ea10eabc",
   "metadata": {},
   "outputs": [
    {
     "data": {
      "text/plain": [
       "8.05"
      ]
     },
     "execution_count": 49,
     "metadata": {},
     "output_type": "execute_result"
    }
   ],
   "source": [
    "mode_c3 = st.mode(data_f_c3)\n",
    "mode_c3\n"
   ]
  },
  {
   "cell_type": "markdown",
   "id": "be3e2341",
   "metadata": {},
   "source": [
    "+ Gráficos: "
   ]
  },
  {
   "cell_type": "code",
   "execution_count": 50,
   "id": "16141bd2",
   "metadata": {},
   "outputs": [
    {
     "data": {
      "image/png": "[encoded data removed]",
      "text/plain": [
       "<Figure size 720x432 with 1 Axes>"
      ]
     },
     "metadata": {
      "needs_background": "light"
     },
     "output_type": "display_data"
    }
   ],
   "source": [
    "data_classe1 = data_c1\n",
    "data_classe2 = data_f_c2\n",
    "data_classe3 = data_f_c3\n",
    "data = [data_classe1, data_classe2, data_classe3]\n",
    " \n",
    "fig = plt.figure(figsize =(10, 6))\n",
    " \n",
    "ax = fig.add_axes([0, 0, 1, 1])\n",
    " \n",
    "bp = ax.boxplot(data)\n",
    "plt.title('Pclass-Fare')\n",
    "plt.xlabel('PClass')\n",
    "plt.ylabel('Fare')\n",
    "plt.show()"
   ]
  },
  {
   "cell_type": "markdown",
   "id": "a3d1c690",
   "metadata": {},
   "source": [
    "+ Tarifa em relação as classes: "
   ]
  },
  {
   "cell_type": "code",
   "execution_count": 51,
   "id": "79f0612a",
   "metadata": {},
   "outputs": [
    {
     "data": {
      "image/png": "[encoded data removed]",
      "text/plain": [
       "<Figure size 432x288 with 1 Axes>"
      ]
     },
     "metadata": {},
     "output_type": "display_data"
    }
   ],
   "source": [
    "labels = 'Class 1', 'Class 2', 'Class 3'\n",
    "sizes = [18177.412499999984, 3801.8417, 6675.653500000002]\n",
    "explode = (0, 0.1, 0.1)  \n",
    "\n",
    "fig1, ax1 = plt.subplots()\n",
    "ax1.pie(sizes, explode=explode, labels=labels, autopct='%1.1f%%',\n",
    "        shadow=True, startangle=90)\n",
    "\n",
    "ax1.axis('equal') \n",
    "ax1.set_title('Pclass - Fare')\n",
    "plt.show()"
   ]
  }
 ],
 "metadata": {
  "kernelspec": {
   "display_name": "Python 3",
   "language": "python",
   "name": "python3"
  },
  "language_info": {
   "codemirror_mode": {
    "name": "ipython",
    "version": 3
   },
   "file_extension": ".py",
   "mimetype": "text/x-python",
   "name": "python",
   "nbconvert_exporter": "python",
   "pygments_lexer": "ipython3",
   "version": "3.8.8"
  }
 },
 "nbformat": 4,
 "nbformat_minor": 5
}
